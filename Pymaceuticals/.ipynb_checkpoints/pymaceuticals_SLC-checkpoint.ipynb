{
 "cells": [
  {
   "cell_type": "markdown",
   "metadata": {},
   "source": [
    "## Observations and Insights"
   ]
  },
  {
   "cell_type": "markdown",
   "metadata": {},
   "source": []
  },
  {
   "cell_type": "markdown",
   "metadata": {},
   "source": [
    "## Dependencies and starter code"
   ]
  },
  {
   "cell_type": "code",
   "execution_count": 131,
   "metadata": {},
   "outputs": [],
   "source": [
    "# Dependencies and Setup\n",
    "import matplotlib.pyplot as plt\n",
    "import pandas as pd\n",
    "import scipy.stats as st\n",
    "import numpy as np\n",
    "\n",
    "# Study data files\n",
    "mouse_metadata = \"data/Mouse_metadata.csv\"\n",
    "study_results = \"data/Study_results.csv\"\n",
    "\n",
    "# Read the mouse data and the study results\n",
    "mouse_metadata = pd.read_csv(mouse_metadata)\n",
    "study_results = pd.read_csv(study_results)\n",
    "\n",
    "# Combine the data into a single dataset\n",
    "mouse_metadata.head()\n",
    "results_combo = pd.merge(mouse_metadata, study_results, how=\"left\", on=[\"Mouse ID\", \"Mouse ID\"])"
   ]
  },
  {
   "cell_type": "markdown",
   "metadata": {},
   "source": [
    "## Summary statistics"
   ]
  },
  {
   "cell_type": "code",
   "execution_count": 132,
   "metadata": {},
   "outputs": [
    {
     "data": {
      "text/html": [
       "<div>\n",
       "<style scoped>\n",
       "    .dataframe tbody tr th:only-of-type {\n",
       "        vertical-align: middle;\n",
       "    }\n",
       "\n",
       "    .dataframe tbody tr th {\n",
       "        vertical-align: top;\n",
       "    }\n",
       "\n",
       "    .dataframe thead th {\n",
       "        text-align: right;\n",
       "    }\n",
       "</style>\n",
       "<table border=\"1\" class=\"dataframe\">\n",
       "  <thead>\n",
       "    <tr style=\"text-align: right;\">\n",
       "      <th></th>\n",
       "      <th>Mouse ID</th>\n",
       "      <th>Drug Regimen</th>\n",
       "      <th>Sex</th>\n",
       "      <th>Age_months</th>\n",
       "      <th>Weight (g)</th>\n",
       "      <th>Timepoint</th>\n",
       "      <th>Tumor Volume (mm3)</th>\n",
       "      <th>Metastatic Sites</th>\n",
       "    </tr>\n",
       "  </thead>\n",
       "  <tbody>\n",
       "    <tr>\n",
       "      <th>0</th>\n",
       "      <td>k403</td>\n",
       "      <td>Ramicane</td>\n",
       "      <td>Male</td>\n",
       "      <td>21</td>\n",
       "      <td>16</td>\n",
       "      <td>0</td>\n",
       "      <td>45.000000</td>\n",
       "      <td>0</td>\n",
       "    </tr>\n",
       "    <tr>\n",
       "      <th>1</th>\n",
       "      <td>k403</td>\n",
       "      <td>Ramicane</td>\n",
       "      <td>Male</td>\n",
       "      <td>21</td>\n",
       "      <td>16</td>\n",
       "      <td>5</td>\n",
       "      <td>38.825898</td>\n",
       "      <td>0</td>\n",
       "    </tr>\n",
       "    <tr>\n",
       "      <th>2</th>\n",
       "      <td>k403</td>\n",
       "      <td>Ramicane</td>\n",
       "      <td>Male</td>\n",
       "      <td>21</td>\n",
       "      <td>16</td>\n",
       "      <td>10</td>\n",
       "      <td>35.014271</td>\n",
       "      <td>1</td>\n",
       "    </tr>\n",
       "    <tr>\n",
       "      <th>3</th>\n",
       "      <td>k403</td>\n",
       "      <td>Ramicane</td>\n",
       "      <td>Male</td>\n",
       "      <td>21</td>\n",
       "      <td>16</td>\n",
       "      <td>15</td>\n",
       "      <td>34.223992</td>\n",
       "      <td>1</td>\n",
       "    </tr>\n",
       "    <tr>\n",
       "      <th>4</th>\n",
       "      <td>k403</td>\n",
       "      <td>Ramicane</td>\n",
       "      <td>Male</td>\n",
       "      <td>21</td>\n",
       "      <td>16</td>\n",
       "      <td>20</td>\n",
       "      <td>32.997729</td>\n",
       "      <td>1</td>\n",
       "    </tr>\n",
       "  </tbody>\n",
       "</table>\n",
       "</div>"
      ],
      "text/plain": [
       "  Mouse ID Drug Regimen   Sex  Age_months  Weight (g)  Timepoint  \\\n",
       "0     k403     Ramicane  Male          21          16          0   \n",
       "1     k403     Ramicane  Male          21          16          5   \n",
       "2     k403     Ramicane  Male          21          16         10   \n",
       "3     k403     Ramicane  Male          21          16         15   \n",
       "4     k403     Ramicane  Male          21          16         20   \n",
       "\n",
       "   Tumor Volume (mm3)  Metastatic Sites  \n",
       "0           45.000000                 0  \n",
       "1           38.825898                 0  \n",
       "2           35.014271                 1  \n",
       "3           34.223992                 1  \n",
       "4           32.997729                 1  "
      ]
     },
     "execution_count": 132,
     "metadata": {},
     "output_type": "execute_result"
    }
   ],
   "source": [
    "results_combo.head()"
   ]
  },
  {
   "cell_type": "code",
   "execution_count": 133,
   "metadata": {},
   "outputs": [
    {
     "data": {
      "text/plain": [
       "array(['Ramicane', 'Capomulin', 'Infubinol', 'Placebo', 'Ceftamin',\n",
       "       'Stelasyn', 'Zoniferol', 'Ketapril', 'Propriva', 'Naftisol'],\n",
       "      dtype=object)"
      ]
     },
     "execution_count": 133,
     "metadata": {},
     "output_type": "execute_result"
    }
   ],
   "source": [
    "Drug = results_combo[\"Drug Regimen\"].unique()\n",
    "Drug"
   ]
  },
  {
   "cell_type": "code",
   "execution_count": 134,
   "metadata": {
    "scrolled": true
   },
   "outputs": [
    {
     "data": {
      "text/html": [
       "<div>\n",
       "<style scoped>\n",
       "    .dataframe tbody tr th:only-of-type {\n",
       "        vertical-align: middle;\n",
       "    }\n",
       "\n",
       "    .dataframe tbody tr th {\n",
       "        vertical-align: top;\n",
       "    }\n",
       "\n",
       "    .dataframe thead th {\n",
       "        text-align: right;\n",
       "    }\n",
       "</style>\n",
       "<table border=\"1\" class=\"dataframe\">\n",
       "  <thead>\n",
       "    <tr style=\"text-align: right;\">\n",
       "      <th></th>\n",
       "      <th>count</th>\n",
       "      <th>mean</th>\n",
       "      <th>std</th>\n",
       "      <th>min</th>\n",
       "      <th>25%</th>\n",
       "      <th>50%</th>\n",
       "      <th>75%</th>\n",
       "      <th>max</th>\n",
       "    </tr>\n",
       "    <tr>\n",
       "      <th>Drug Regimen</th>\n",
       "      <th></th>\n",
       "      <th></th>\n",
       "      <th></th>\n",
       "      <th></th>\n",
       "      <th></th>\n",
       "      <th></th>\n",
       "      <th></th>\n",
       "      <th></th>\n",
       "    </tr>\n",
       "  </thead>\n",
       "  <tbody>\n",
       "    <tr>\n",
       "      <th>Capomulin</th>\n",
       "      <td>230.0</td>\n",
       "      <td>40.675741</td>\n",
       "      <td>4.994774</td>\n",
       "      <td>23.343598</td>\n",
       "      <td>37.685933</td>\n",
       "      <td>41.557809</td>\n",
       "      <td>45.000000</td>\n",
       "      <td>48.158209</td>\n",
       "    </tr>\n",
       "    <tr>\n",
       "      <th>Ceftamin</th>\n",
       "      <td>178.0</td>\n",
       "      <td>52.591172</td>\n",
       "      <td>6.268188</td>\n",
       "      <td>45.000000</td>\n",
       "      <td>47.208427</td>\n",
       "      <td>51.776157</td>\n",
       "      <td>56.801438</td>\n",
       "      <td>68.923185</td>\n",
       "    </tr>\n",
       "    <tr>\n",
       "      <th>Infubinol</th>\n",
       "      <td>178.0</td>\n",
       "      <td>52.884795</td>\n",
       "      <td>6.567243</td>\n",
       "      <td>36.321346</td>\n",
       "      <td>47.312353</td>\n",
       "      <td>51.820584</td>\n",
       "      <td>57.314444</td>\n",
       "      <td>72.226731</td>\n",
       "    </tr>\n",
       "    <tr>\n",
       "      <th>Ketapril</th>\n",
       "      <td>188.0</td>\n",
       "      <td>55.235638</td>\n",
       "      <td>8.279709</td>\n",
       "      <td>45.000000</td>\n",
       "      <td>48.232987</td>\n",
       "      <td>53.698743</td>\n",
       "      <td>60.870951</td>\n",
       "      <td>78.567014</td>\n",
       "    </tr>\n",
       "    <tr>\n",
       "      <th>Naftisol</th>\n",
       "      <td>186.0</td>\n",
       "      <td>54.331565</td>\n",
       "      <td>8.134708</td>\n",
       "      <td>45.000000</td>\n",
       "      <td>47.285874</td>\n",
       "      <td>52.509285</td>\n",
       "      <td>59.963034</td>\n",
       "      <td>76.668817</td>\n",
       "    </tr>\n",
       "    <tr>\n",
       "      <th>Placebo</th>\n",
       "      <td>181.0</td>\n",
       "      <td>54.033581</td>\n",
       "      <td>7.821003</td>\n",
       "      <td>45.000000</td>\n",
       "      <td>47.459053</td>\n",
       "      <td>52.288934</td>\n",
       "      <td>59.916934</td>\n",
       "      <td>73.212939</td>\n",
       "    </tr>\n",
       "    <tr>\n",
       "      <th>Propriva</th>\n",
       "      <td>161.0</td>\n",
       "      <td>52.322552</td>\n",
       "      <td>6.507770</td>\n",
       "      <td>45.000000</td>\n",
       "      <td>47.081086</td>\n",
       "      <td>50.854632</td>\n",
       "      <td>56.184664</td>\n",
       "      <td>72.455421</td>\n",
       "    </tr>\n",
       "    <tr>\n",
       "      <th>Ramicane</th>\n",
       "      <td>228.0</td>\n",
       "      <td>40.216745</td>\n",
       "      <td>4.846308</td>\n",
       "      <td>22.050126</td>\n",
       "      <td>36.674635</td>\n",
       "      <td>40.673236</td>\n",
       "      <td>45.000000</td>\n",
       "      <td>47.622816</td>\n",
       "    </tr>\n",
       "    <tr>\n",
       "      <th>Stelasyn</th>\n",
       "      <td>181.0</td>\n",
       "      <td>54.233149</td>\n",
       "      <td>7.710419</td>\n",
       "      <td>45.000000</td>\n",
       "      <td>48.047139</td>\n",
       "      <td>52.431737</td>\n",
       "      <td>58.719297</td>\n",
       "      <td>75.123690</td>\n",
       "    </tr>\n",
       "    <tr>\n",
       "      <th>Zoniferol</th>\n",
       "      <td>182.0</td>\n",
       "      <td>53.236507</td>\n",
       "      <td>6.966589</td>\n",
       "      <td>45.000000</td>\n",
       "      <td>47.337876</td>\n",
       "      <td>51.818479</td>\n",
       "      <td>57.954259</td>\n",
       "      <td>73.324432</td>\n",
       "    </tr>\n",
       "  </tbody>\n",
       "</table>\n",
       "</div>"
      ],
      "text/plain": [
       "              count       mean       std        min        25%        50%  \\\n",
       "Drug Regimen                                                                \n",
       "Capomulin     230.0  40.675741  4.994774  23.343598  37.685933  41.557809   \n",
       "Ceftamin      178.0  52.591172  6.268188  45.000000  47.208427  51.776157   \n",
       "Infubinol     178.0  52.884795  6.567243  36.321346  47.312353  51.820584   \n",
       "Ketapril      188.0  55.235638  8.279709  45.000000  48.232987  53.698743   \n",
       "Naftisol      186.0  54.331565  8.134708  45.000000  47.285874  52.509285   \n",
       "Placebo       181.0  54.033581  7.821003  45.000000  47.459053  52.288934   \n",
       "Propriva      161.0  52.322552  6.507770  45.000000  47.081086  50.854632   \n",
       "Ramicane      228.0  40.216745  4.846308  22.050126  36.674635  40.673236   \n",
       "Stelasyn      181.0  54.233149  7.710419  45.000000  48.047139  52.431737   \n",
       "Zoniferol     182.0  53.236507  6.966589  45.000000  47.337876  51.818479   \n",
       "\n",
       "                    75%        max  \n",
       "Drug Regimen                        \n",
       "Capomulin     45.000000  48.158209  \n",
       "Ceftamin      56.801438  68.923185  \n",
       "Infubinol     57.314444  72.226731  \n",
       "Ketapril      60.870951  78.567014  \n",
       "Naftisol      59.963034  76.668817  \n",
       "Placebo       59.916934  73.212939  \n",
       "Propriva      56.184664  72.455421  \n",
       "Ramicane      45.000000  47.622816  \n",
       "Stelasyn      58.719297  75.123690  \n",
       "Zoniferol     57.954259  73.324432  "
      ]
     },
     "execution_count": 134,
     "metadata": {},
     "output_type": "execute_result"
    }
   ],
   "source": [
    "# Generate a summary statistics table of mean, median, variance, standard deviation, and SEM of the tumor volume for each regimen\n",
    "#results_combo_stats = results_combo.groupby(\"Drug Regimen\").describe()\n",
    "tumor = results_combo.set_index('Drug Regimen')['Tumor Volume (mm3)']\n",
    "tumor_stats = tumor.groupby(\"Drug Regimen\").describe()\n",
    "#tumor_stats\n",
    "\n",
    "\n",
    "#Var of Tumor\n",
    "tumor_var = tumor.groupby(\"Drug Regimen\").var()\n",
    "\n",
    "#StD of Tumor\n",
    "tumor_sem = tumor.groupby(\"Drug Regimen\").sem()\n",
    "\n",
    "\n",
    "\n",
    "\n",
    "tumor_stats\n"
   ]
  },
  {
   "cell_type": "code",
   "execution_count": 135,
   "metadata": {},
   "outputs": [
    {
     "data": {
      "text/html": [
       "<div>\n",
       "<style scoped>\n",
       "    .dataframe tbody tr th:only-of-type {\n",
       "        vertical-align: middle;\n",
       "    }\n",
       "\n",
       "    .dataframe tbody tr th {\n",
       "        vertical-align: top;\n",
       "    }\n",
       "\n",
       "    .dataframe thead th {\n",
       "        text-align: right;\n",
       "    }\n",
       "</style>\n",
       "<table border=\"1\" class=\"dataframe\">\n",
       "  <thead>\n",
       "    <tr style=\"text-align: right;\">\n",
       "      <th></th>\n",
       "      <th>mean</th>\n",
       "      <th>std</th>\n",
       "      <th>median</th>\n",
       "      <th>variance</th>\n",
       "      <th>SEM</th>\n",
       "    </tr>\n",
       "    <tr>\n",
       "      <th>Drug Regimen</th>\n",
       "      <th></th>\n",
       "      <th></th>\n",
       "      <th></th>\n",
       "      <th></th>\n",
       "      <th></th>\n",
       "    </tr>\n",
       "  </thead>\n",
       "  <tbody>\n",
       "    <tr>\n",
       "      <th>Capomulin</th>\n",
       "      <td>40.675741</td>\n",
       "      <td>4.994774</td>\n",
       "      <td>41.557809</td>\n",
       "      <td>24.947764</td>\n",
       "      <td>0.329346</td>\n",
       "    </tr>\n",
       "    <tr>\n",
       "      <th>Ceftamin</th>\n",
       "      <td>52.591172</td>\n",
       "      <td>6.268188</td>\n",
       "      <td>51.776157</td>\n",
       "      <td>39.290177</td>\n",
       "      <td>0.469821</td>\n",
       "    </tr>\n",
       "    <tr>\n",
       "      <th>Infubinol</th>\n",
       "      <td>52.884795</td>\n",
       "      <td>6.567243</td>\n",
       "      <td>51.820584</td>\n",
       "      <td>43.128684</td>\n",
       "      <td>0.492236</td>\n",
       "    </tr>\n",
       "    <tr>\n",
       "      <th>Ketapril</th>\n",
       "      <td>55.235638</td>\n",
       "      <td>8.279709</td>\n",
       "      <td>53.698743</td>\n",
       "      <td>68.553577</td>\n",
       "      <td>0.603860</td>\n",
       "    </tr>\n",
       "    <tr>\n",
       "      <th>Naftisol</th>\n",
       "      <td>54.331565</td>\n",
       "      <td>8.134708</td>\n",
       "      <td>52.509285</td>\n",
       "      <td>66.173479</td>\n",
       "      <td>0.596466</td>\n",
       "    </tr>\n",
       "    <tr>\n",
       "      <th>Placebo</th>\n",
       "      <td>54.033581</td>\n",
       "      <td>7.821003</td>\n",
       "      <td>52.288934</td>\n",
       "      <td>61.168083</td>\n",
       "      <td>0.581331</td>\n",
       "    </tr>\n",
       "    <tr>\n",
       "      <th>Propriva</th>\n",
       "      <td>52.322552</td>\n",
       "      <td>6.507770</td>\n",
       "      <td>50.854632</td>\n",
       "      <td>42.351070</td>\n",
       "      <td>0.512884</td>\n",
       "    </tr>\n",
       "    <tr>\n",
       "      <th>Ramicane</th>\n",
       "      <td>40.216745</td>\n",
       "      <td>4.846308</td>\n",
       "      <td>40.673236</td>\n",
       "      <td>23.486704</td>\n",
       "      <td>0.320955</td>\n",
       "    </tr>\n",
       "    <tr>\n",
       "      <th>Stelasyn</th>\n",
       "      <td>54.233149</td>\n",
       "      <td>7.710419</td>\n",
       "      <td>52.431737</td>\n",
       "      <td>59.450562</td>\n",
       "      <td>0.573111</td>\n",
       "    </tr>\n",
       "    <tr>\n",
       "      <th>Zoniferol</th>\n",
       "      <td>53.236507</td>\n",
       "      <td>6.966589</td>\n",
       "      <td>51.818479</td>\n",
       "      <td>48.533355</td>\n",
       "      <td>0.516398</td>\n",
       "    </tr>\n",
       "  </tbody>\n",
       "</table>\n",
       "</div>"
      ],
      "text/plain": [
       "                   mean       std     median   variance       SEM\n",
       "Drug Regimen                                                     \n",
       "Capomulin     40.675741  4.994774  41.557809  24.947764  0.329346\n",
       "Ceftamin      52.591172  6.268188  51.776157  39.290177  0.469821\n",
       "Infubinol     52.884795  6.567243  51.820584  43.128684  0.492236\n",
       "Ketapril      55.235638  8.279709  53.698743  68.553577  0.603860\n",
       "Naftisol      54.331565  8.134708  52.509285  66.173479  0.596466\n",
       "Placebo       54.033581  7.821003  52.288934  61.168083  0.581331\n",
       "Propriva      52.322552  6.507770  50.854632  42.351070  0.512884\n",
       "Ramicane      40.216745  4.846308  40.673236  23.486704  0.320955\n",
       "Stelasyn      54.233149  7.710419  52.431737  59.450562  0.573111\n",
       "Zoniferol     53.236507  6.966589  51.818479  48.533355  0.516398"
      ]
     },
     "execution_count": 135,
     "metadata": {},
     "output_type": "execute_result"
    }
   ],
   "source": [
    "#tumor_stats.get_group(\"Capomulin\") \n",
    "tumor_status2 = pd.concat([tumor_stats, tumor_var.rename('variance'),tumor_sem.rename('SEM')], axis=1)\n",
    "#, columns = ['count','mean','std','min','25%', 'median','75%','max','variance','SEM']\n",
    "\n",
    "tumor_status3 = tumor_status2.drop(columns=['count','min','25%','75%','max'])\n",
    "tumor_status4 = tumor_status3.rename(columns = {\"50%\":\"median\"})\n",
    "tumor_status4"
   ]
  },
  {
   "cell_type": "code",
   "execution_count": null,
   "metadata": {},
   "outputs": [],
   "source": []
  },
  {
   "cell_type": "code",
   "execution_count": null,
   "metadata": {},
   "outputs": [],
   "source": []
  },
  {
   "cell_type": "markdown",
   "metadata": {},
   "source": [
    "## Bar plots"
   ]
  },
  {
   "cell_type": "code",
   "execution_count": 136,
   "metadata": {},
   "outputs": [
    {
     "data": {
      "image/png": "[encoded data removed]",
      "text/plain": [
       "<Figure size 1440x216 with 1 Axes>"
      ]
     },
     "metadata": {
      "needs_background": "light"
     },
     "output_type": "display_data"
    }
   ],
   "source": [
    "# Generate a bar plot showing number of data points for each treatment regimen using pandas\n",
    "tumor_status4.plot(kind=\"bar\", figsize=(20,3))\n",
    "\n",
    "#tumor_status4.set_xticklabels(tumor_status4)\n",
    "\n",
    "plt.title(\"Tumor statistics by Regimen\")\n",
    "plt.xlabel(\"Drug\")\n",
    "plt.ylabel(\"Statistics\")\n",
    "\n",
    "\n",
    "plt.show()"
   ]
  },
  {
   "cell_type": "code",
   "execution_count": 137,
   "metadata": {},
   "outputs": [
    {
     "data": {
      "text/plain": [
       "([<matplotlib.axis.XTick at 0x1c5c43a75c8>,\n",
       "  <matplotlib.axis.XTick at 0x1c5c55283c8>,\n",
       "  <matplotlib.axis.XTick at 0x1c5c5528dc8>,\n",
       "  <matplotlib.axis.XTick at 0x1c5c40eca48>,\n",
       "  <matplotlib.axis.XTick at 0x1c5c410bd08>,\n",
       "  <matplotlib.axis.XTick at 0x1c5c410be48>,\n",
       "  <matplotlib.axis.XTick at 0x1c5c3986b08>,\n",
       "  <matplotlib.axis.XTick at 0x1c5c3a8aec8>,\n",
       "  <matplotlib.axis.XTick at 0x1c5c410b548>,\n",
       "  <matplotlib.axis.XTick at 0x1c5c3a8a588>],\n",
       " <a list of 9 Text xticklabel objects>)"
      ]
     },
     "execution_count": 137,
     "metadata": {},
     "output_type": "execute_result"
    },
    {
     "data": {
      "image/png": "[encoded data removed]",
      "text/plain": [
       "<Figure size 1440x216 with 1 Axes>"
      ]
     },
     "metadata": {
      "needs_background": "light"
     },
     "output_type": "display_data"
    }
   ],
   "source": [
    "x_axis = np.arange(len(Drug))\n",
    "stats = [value for value in x_axis]\n",
    "\n",
    "width = 0.2\n",
    "\n",
    "plt.figure(figsize=(20,3))\n",
    "plt.bar(x_axis, tumor_stats[\"mean\"], width, color='r', alpha=0.75, align=\"center\")\n",
    "plt.bar(x_axis - width, tumor_stats[\"50%\"], width, color='lightblue', alpha=0.75, align=\"center\")\n",
    "plt.bar(x_axis - (width *2), tumor_var, width, color='purple', alpha=0.75, align=\"center\")\n",
    "plt.bar(x_axis - (width* 3), tumor_stats[\"std\"], width, color='blue', alpha=1, align=\"center\")\n",
    "plt.bar(x_axis- (width* 4), tumor_sem, width, color='orange', alpha=1, align=\"center\")\n",
    "\n",
    "\n",
    "#Labels\n",
    "plt.title(\"Tumor by regimen\")\n",
    "plt.xlabel(\"Drug\")\n",
    "plt.ylabel(\"Statistics\")\n",
    "\n",
    "\n",
    "drug_name = [value for value in x_axis]\n",
    "plt.xticks(drug_name, ['Capomulin', 'Ceftamin', 'Infubinol','Capomulin', 'Ceftamin', 'Infubinol''Capomulin', 'Ceftamin', 'Infubinol', 'Infubinol'])\n"
   ]
  },
  {
   "cell_type": "code",
   "execution_count": 138,
   "metadata": {},
   "outputs": [],
   "source": [
    "#x_axis = np.arange(len(Drug))\n",
    "#stats = [value for value in x_axis]\n",
    "\n",
    "#width = 0.2\n",
    "\n",
    "#plt.figure(figsize=(20,3))\n",
    "#plt.bar(x_axis, tumor_sem, width, color='orange', alpha=1, align=\"center\")\n",
    "\n",
    "#Labels\n",
    "#plt.title(\"Tumor by SEM\")\n",
    "#plt.xlabel(\"Drug\")\n",
    "#plt.ylabel(\"Statistics\")\n",
    "#plt.xticks(Drug)\n",
    "#ax.set_xticklabels( ('Capomulin', 'G2', 'G3', 'G4', 'G5') )"
   ]
  },
  {
   "cell_type": "code",
   "execution_count": 139,
   "metadata": {},
   "outputs": [],
   "source": [
    "# Generate a bar plot showing number of data points for each treatment regimen using pyplot\n"
   ]
  },
  {
   "cell_type": "markdown",
   "metadata": {},
   "source": [
    "## Pie plots"
   ]
  },
  {
   "cell_type": "code",
   "execution_count": 140,
   "metadata": {},
   "outputs": [
    {
     "data": {
      "image/png": "[encoded data removed]",
      "text/plain": [
       "<Figure size 432x288 with 1 Axes>"
      ]
     },
     "metadata": {},
     "output_type": "display_data"
    }
   ],
   "source": [
    "# Generate a pie plot showing the distribution of female versus male mice using pandas\n",
    "colors = [\"yellowgreen\",\"lightskyblue\"]\n",
    "mice_sex = results_combo.set_index('Sex')['Mouse ID']\n",
    "gender_groups = mice_sex.groupby('Sex').count()\n",
    "gender_groups.head()\n",
    "\n",
    "gender_groups.plot(kind=\"pie\", autopct='%1.1f%%', colors=colors, shadow=True, startangle=140)\n",
    "\n",
    "plt.title(\"Distribution by Sex\")\n",
    "#plt.xlabel(\"Count\")\n",
    "plt.ylabel(\"\")\n",
    "\n",
    "\n",
    "plt.show()"
   ]
  },
  {
   "cell_type": "code",
   "execution_count": 141,
   "metadata": {},
   "outputs": [
    {
     "data": {
      "text/plain": [
       "Sex\n",
       "Female    935\n",
       "Male      958\n",
       "Name: Mouse ID, dtype: int64"
      ]
     },
     "execution_count": 141,
     "metadata": {},
     "output_type": "execute_result"
    }
   ],
   "source": [
    "gender_groups.head()"
   ]
  },
  {
   "cell_type": "code",
   "execution_count": 142,
   "metadata": {},
   "outputs": [
    {
     "data": {
      "image/png": "[encoded data removed]",
      "text/plain": [
       "<Figure size 432x288 with 1 Axes>"
      ]
     },
     "metadata": {},
     "output_type": "display_data"
    }
   ],
   "source": [
    "# Generate a pie plot showing the distribution of female versus male mice using pyplot\n",
    "colors = [\"yellowgreen\",\"lightskyblue\"]\n",
    "plt.title(\"Distribution by Sex\")\n",
    "\n",
    "plt.pie(gender_groups, labels=gender_groups, colors=colors,\n",
    "        autopct=\"%1.1f%%\", shadow=True, startangle=140)\n",
    "#***************Add tickets to show which one is female vs male**********\n",
    "plt.axis(\"equal\")\n",
    "plt.show()"
   ]
  },
  {
   "cell_type": "markdown",
   "metadata": {},
   "source": [
    "## Quartiles, outliers and boxplots"
   ]
  },
  {
   "cell_type": "code",
   "execution_count": 143,
   "metadata": {
    "scrolled": true
   },
   "outputs": [
    {
     "name": "stdout",
     "output_type": "stream",
     "text": [
      "The lower quartile of Tumor treatment is: 33.48002734\n",
      "The upper quartile of Tumor treatment is: 62.14221369\n",
      "The interquartile range of Tumor treatment is: 28.66218635\n",
      "The the median of Tumor treatment is: 40.1592203 \n",
      "Values below -9.513252184999999 could be outliers.\n",
      "Values above 105.135493215 could be outliers.\n",
      "\n",
      "The lower quartile of Capomulin treatment is: 32.37735684\n",
      "The upper quartile of Capomulin treatment is: 40.1592203\n",
      "The interquartile range of Capomulin treatment is: 7.781863460000004\n",
      "The the median of Capomulin treatment is: 37.31184577 \n",
      "Values below 20.70456164999999 could be outliers for the Capomulin treatment.\n",
      "Values above 51.83201549 could be outliers for the Capomulin treatment.\n",
      "\n",
      "The lower quartile of Ramicane treatment is: 30.981175224999998\n",
      "The upper quartile of Ramicane treatment is: 38.508305307499995\n",
      "The interquartile range of Ramicane treatment is: 7.527130082499998\n",
      "The the median of Ramicane treatment is: 34.848627300000004 \n",
      "Values below 19.690480101250003 could be outliers for the Ramicane treatment.\n",
      "Values above 49.79900043124999 could be outliers for the Ramicane treatment.\n",
      "\n",
      "The lower quartile of Infubinol treatment is: 62.75445141\n",
      "The upper quartile of Infubinol treatment is: 67.68556862\n",
      "The interquartile range of Infubinol treatment is: 4.9311172099999965\n",
      "The the median of Infubinol treatment is: 66.08306589 \n",
      "Values below 55.35777559500001 could be outliers for the Infubinol treatment.\n",
      "Values above 75.08224443499999 could be outliers for the Infubinol treatment.\n",
      "\n",
      "The lower quartile of Ceftamin treatment is: 61.43389223\n",
      "The upper quartile of Ceftamin treatment is: 67.52748237\n",
      "The interquartile range of Ceftamin treatment is: 6.093590140000003\n",
      "The the median of Ceftamin treatment is: 64.29983003 \n",
      "Values below 52.29350701999999 could be outliers for the Ceftamin treatment.\n",
      "Values above 76.66786758 could be outliers for the Ceftamin treatment.\n"
     ]
    }
   ],
   "source": [
    "# Calculate the final tumor volume of each mouse across four of the most promising treatment regimens. Calculate the IQR and quantitatively determine if there are any potential outliers. \n",
    "results_combo.head(20)\n",
    "final = results_Capomulin = results_combo.loc[results_combo[\"Timepoint\"] == 45]\n",
    "#Filter down for 4 Drug Regimen\n",
    "final4 = final.loc[(final[\"Drug Regimen\"] ==\"Capomulin\") | (final[\"Drug Regimen\"] ==\"Ramicane\") |\n",
    "          (final[\"Drug Regimen\"] ==\"Infubinol\") | (final[\"Drug Regimen\"] == \"Ceftamin\")]\n",
    "\n",
    "final5 = final.loc[(final[\"Drug Regimen\"] ==\"Capomulin\") | (final[\"Drug Regimen\"] ==\"Ramicane\") |\n",
    "          (final[\"Drug Regimen\"] ==\"Infubinol\") | (final[\"Drug Regimen\"] == \"Ceftamin\")]['Tumor Volume (mm3)']\n",
    "\n",
    "final.head(20)\n",
    "#Sort to have lowest values at the top\n",
    "final_volume = final4[[\"Drug Regimen\",'Tumor Volume (mm3)']].sort_values('Tumor Volume (mm3)')\n",
    "final_volume.head(20)\n",
    "\n",
    "#final_volume.describe()\n",
    "#***************Overall**************\n",
    "quartiles = final5.quantile([.25,.5,.75])\n",
    "lowerq = quartiles[.25]\n",
    "upperq = quartiles[.75]\n",
    "iqr = upperq-lowerq\n",
    "\n",
    "print(f\"The lower quartile of Tumor treatment is: {lowerq}\")\n",
    "print(f\"The upper quartile of Tumor treatment is: {upperq}\")\n",
    "print(f\"The interquartile range of Tumor treatment is: {iqr}\")\n",
    "print(f\"The the median of Tumor treatment is: {quartiles[0.5]} \")\n",
    "\n",
    "lower_bound = lowerq - (1.5*iqr)\n",
    "upper_bound = upperq + (1.5*iqr)\n",
    "\n",
    "print(f\"Values below {lower_bound} could be outliers.\")\n",
    "print(f\"Values above {upper_bound} could be outliers.\")\n",
    "\n",
    "final_cap = final.loc[(final[\"Drug Regimen\"] ==\"Capomulin\")]['Tumor Volume (mm3)']\n",
    "final_ram = final.loc[(final[\"Drug Regimen\"] ==\"Ramicane\")]['Tumor Volume (mm3)']\n",
    "final_inf = final.loc[(final[\"Drug Regimen\"] ==\"Infubinol\")]['Tumor Volume (mm3)']\n",
    "final_ceft = final.loc[(final[\"Drug Regimen\"] ==\"Ceftamin\")]['Tumor Volume (mm3)']\n",
    "\n",
    "#***************Capomulin**************\n",
    "quartiles = final_cap.quantile([.25,.5,.75])\n",
    "lowerq = quartiles[.25]\n",
    "upperq = quartiles[.75]\n",
    "iqr = upperq-lowerq\n",
    "\n",
    "print(f\"\")\n",
    "\n",
    "print(f\"The lower quartile of Capomulin treatment is: {lowerq}\")\n",
    "print(f\"The upper quartile of Capomulin treatment is: {upperq}\")\n",
    "print(f\"The interquartile range of Capomulin treatment is: {iqr}\")\n",
    "print(f\"The the median of Capomulin treatment is: {quartiles[0.5]} \")\n",
    "\n",
    "lower_bound = lowerq - (1.5*iqr)\n",
    "upper_bound = upperq + (1.5*iqr)\n",
    "\n",
    "print(f\"Values below {lower_bound} could be outliers for the Capomulin treatment.\")\n",
    "print(f\"Values above {upper_bound} could be outliers for the Capomulin treatment.\")\n",
    "\n",
    "#***************Ramicane**************\n",
    "quartiles = final_ram.quantile([.25,.5,.75])\n",
    "lowerq = quartiles[.25]\n",
    "upperq = quartiles[.75]\n",
    "iqr = upperq-lowerq\n",
    "\n",
    "print(f\"\")\n",
    "\n",
    "print(f\"The lower quartile of Ramicane treatment is: {lowerq}\")\n",
    "print(f\"The upper quartile of Ramicane treatment is: {upperq}\")\n",
    "print(f\"The interquartile range of Ramicane treatment is: {iqr}\")\n",
    "print(f\"The the median of Ramicane treatment is: {quartiles[0.5]} \")\n",
    "\n",
    "lower_bound = lowerq - (1.5*iqr)\n",
    "upper_bound = upperq + (1.5*iqr)\n",
    "\n",
    "print(f\"Values below {lower_bound} could be outliers for the Ramicane treatment.\")\n",
    "print(f\"Values above {upper_bound} could be outliers for the Ramicane treatment.\")\n",
    "\n",
    "#***************Infubinol**************\n",
    "quartiles = final_inf.quantile([.25,.5,.75])\n",
    "lowerq = quartiles[.25]\n",
    "upperq = quartiles[.75]\n",
    "iqr = upperq-lowerq\n",
    "\n",
    "print(f\"\")\n",
    "\n",
    "print(f\"The lower quartile of Infubinol treatment is: {lowerq}\")\n",
    "print(f\"The upper quartile of Infubinol treatment is: {upperq}\")\n",
    "print(f\"The interquartile range of Infubinol treatment is: {iqr}\")\n",
    "print(f\"The the median of Infubinol treatment is: {quartiles[0.5]} \")\n",
    "\n",
    "lower_bound = lowerq - (1.5*iqr)\n",
    "upper_bound = upperq + (1.5*iqr)\n",
    "\n",
    "print(f\"Values below {lower_bound} could be outliers for the Infubinol treatment.\")\n",
    "print(f\"Values above {upper_bound} could be outliers for the Infubinol treatment.\")\n",
    "\n",
    "#***************Ceftamin**************\n",
    "quartiles = final_ceft.quantile([.25,.5,.75])\n",
    "lowerq = quartiles[.25]\n",
    "upperq = quartiles[.75]\n",
    "iqr = upperq-lowerq\n",
    "\n",
    "print(f\"\")\n",
    "\n",
    "print(f\"The lower quartile of Ceftamin treatment is: {lowerq}\")\n",
    "print(f\"The upper quartile of Ceftamin treatment is: {upperq}\")\n",
    "print(f\"The interquartile range of Ceftamin treatment is: {iqr}\")\n",
    "print(f\"The the median of Ceftamin treatment is: {quartiles[0.5]} \")\n",
    "\n",
    "lower_bound = lowerq - (1.5*iqr)\n",
    "upper_bound = upperq + (1.5*iqr)\n",
    "\n",
    "print(f\"Values below {lower_bound} could be outliers for the Ceftamin treatment.\")\n",
    "print(f\"Values above {upper_bound} could be outliers for the Ceftamin treatment.\")\n"
   ]
  },
  {
   "cell_type": "code",
   "execution_count": 144,
   "metadata": {},
   "outputs": [
    {
     "data": {
      "image/png": "[encoded data removed]",
      "text/plain": [
       "<Figure size 432x288 with 1 Axes>"
      ]
     },
     "metadata": {
      "needs_background": "light"
     },
     "output_type": "display_data"
    }
   ],
   "source": [
    "# Generate a box plot of the final tumor volume of each mouse across four regimens of interest\n",
    "#times = [96,98,100,105,85,88,95,100,101,102,97,98,5]\n",
    "fig1, ax1 = plt.subplots()\n",
    "ax1.set_title('Treatment response')\n",
    "ax1.set_ylabel('Tumor Volume (mm3)')\n",
    "ax1.boxplot([final_cap, final_ram, final_inf, final_ceft], labels= ['Capomulin','Ramicane','Infubinol','Ceftamin '])\n",
    "plt.show()"
   ]
  },
  {
   "cell_type": "markdown",
   "metadata": {},
   "source": [
    "## Line and scatter plots"
   ]
  },
  {
   "cell_type": "code",
   "execution_count": 145,
   "metadata": {},
   "outputs": [
    {
     "data": {
      "text/html": [
       "<div>\n",
       "<style scoped>\n",
       "    .dataframe tbody tr th:only-of-type {\n",
       "        vertical-align: middle;\n",
       "    }\n",
       "\n",
       "    .dataframe tbody tr th {\n",
       "        vertical-align: top;\n",
       "    }\n",
       "\n",
       "    .dataframe thead th {\n",
       "        text-align: right;\n",
       "    }\n",
       "</style>\n",
       "<table border=\"1\" class=\"dataframe\">\n",
       "  <thead>\n",
       "    <tr style=\"text-align: right;\">\n",
       "      <th></th>\n",
       "      <th>Mouse ID</th>\n",
       "      <th>Drug Regimen</th>\n",
       "      <th>Sex</th>\n",
       "      <th>Age_months</th>\n",
       "      <th>Weight (g)</th>\n",
       "      <th>Timepoint</th>\n",
       "      <th>Tumor Volume (mm3)</th>\n",
       "      <th>Metastatic Sites</th>\n",
       "    </tr>\n",
       "  </thead>\n",
       "  <tbody>\n",
       "    <tr>\n",
       "      <th>10</th>\n",
       "      <td>s185</td>\n",
       "      <td>Capomulin</td>\n",
       "      <td>Female</td>\n",
       "      <td>3</td>\n",
       "      <td>17</td>\n",
       "      <td>0</td>\n",
       "      <td>45.000000</td>\n",
       "      <td>0</td>\n",
       "    </tr>\n",
       "    <tr>\n",
       "      <th>11</th>\n",
       "      <td>s185</td>\n",
       "      <td>Capomulin</td>\n",
       "      <td>Female</td>\n",
       "      <td>3</td>\n",
       "      <td>17</td>\n",
       "      <td>5</td>\n",
       "      <td>43.878496</td>\n",
       "      <td>0</td>\n",
       "    </tr>\n",
       "    <tr>\n",
       "      <th>12</th>\n",
       "      <td>s185</td>\n",
       "      <td>Capomulin</td>\n",
       "      <td>Female</td>\n",
       "      <td>3</td>\n",
       "      <td>17</td>\n",
       "      <td>10</td>\n",
       "      <td>37.614948</td>\n",
       "      <td>0</td>\n",
       "    </tr>\n",
       "    <tr>\n",
       "      <th>13</th>\n",
       "      <td>s185</td>\n",
       "      <td>Capomulin</td>\n",
       "      <td>Female</td>\n",
       "      <td>3</td>\n",
       "      <td>17</td>\n",
       "      <td>15</td>\n",
       "      <td>38.177232</td>\n",
       "      <td>0</td>\n",
       "    </tr>\n",
       "    <tr>\n",
       "      <th>14</th>\n",
       "      <td>s185</td>\n",
       "      <td>Capomulin</td>\n",
       "      <td>Female</td>\n",
       "      <td>3</td>\n",
       "      <td>17</td>\n",
       "      <td>20</td>\n",
       "      <td>36.866876</td>\n",
       "      <td>0</td>\n",
       "    </tr>\n",
       "  </tbody>\n",
       "</table>\n",
       "</div>"
      ],
      "text/plain": [
       "   Mouse ID Drug Regimen     Sex  Age_months  Weight (g)  Timepoint  \\\n",
       "10     s185    Capomulin  Female           3          17          0   \n",
       "11     s185    Capomulin  Female           3          17          5   \n",
       "12     s185    Capomulin  Female           3          17         10   \n",
       "13     s185    Capomulin  Female           3          17         15   \n",
       "14     s185    Capomulin  Female           3          17         20   \n",
       "\n",
       "    Tumor Volume (mm3)  Metastatic Sites  \n",
       "10           45.000000                 0  \n",
       "11           43.878496                 0  \n",
       "12           37.614948                 0  \n",
       "13           38.177232                 0  \n",
       "14           36.866876                 0  "
      ]
     },
     "execution_count": 145,
     "metadata": {},
     "output_type": "execute_result"
    }
   ],
   "source": [
    "results_combo.head()\n",
    "\n",
    "#Only bring in Capomulin\n",
    "results_Capomulin = results_combo.loc[results_combo[\"Drug Regimen\"] == \"Capomulin\"]\n",
    "\n",
    "#Select one mouse!!\n",
    "results_Capomulin = results_combo.loc[results_combo[\"Mouse ID\"] == \"s185\"]\n",
    "results_Capomulin.head()"
   ]
  },
  {
   "cell_type": "code",
   "execution_count": 146,
   "metadata": {},
   "outputs": [
    {
     "data": {
      "image/png": "[encoded data removed]",
      "text/plain": [
       "<Figure size 432x288 with 1 Axes>"
      ]
     },
     "metadata": {
      "needs_background": "light"
     },
     "output_type": "display_data"
    }
   ],
   "source": [
    "# Generate a line plot of time point versus tumor volume for a mouse treated with Capomulin\n",
    "\n",
    "\n",
    "#time_point, = plt.plot(results_Capomulin[\"Timepoint\"], results_Capomulin[\"Tumor Volume (mm3)\"], marker=\"+\",color=\"blue\", linewidth=1, label=\"Timepoint\")\n",
    "time_point, = plt.plot(results_Capomulin[\"Timepoint\"], results_Capomulin['Tumor Volume (mm3)'], marker=\"+\",color=\"blue\", linewidth=1, label=\"Timepoint\")\n",
    "\n",
    "\n",
    "#plt.scatter(results_Capomulin['Timepoint'],results_Capomulin['Tumor Volume (mm3)'])\n",
    "#clb = plt.colorbar()\n",
    "plt.xlabel(\"Tumor Volume (mm3)\")\n",
    "plt.ylabel(\"Timepoint\")\n",
    "#clb.set_label(\"Median Income\")\n",
    "plt.show()\n"
   ]
  },
  {
   "cell_type": "code",
   "execution_count": 147,
   "metadata": {},
   "outputs": [],
   "source": [
    "#results_Capomulin[\"Tumor Volume Avg\"] = results_Capomulin['Tumor Volume (mm3)'].mean()\n",
    "#results_Capomulin.head()"
   ]
  },
  {
   "cell_type": "code",
   "execution_count": 154,
   "metadata": {},
   "outputs": [
    {
     "data": {
      "text/plain": [
       "Weight (g)\n",
       "17    34.559143\n",
       "Name: Tumor Volume (mm3), dtype: float64"
      ]
     },
     "execution_count": 154,
     "metadata": {},
     "output_type": "execute_result"
    }
   ],
   "source": [
    "# Generate a scatter plot of mouse weight versus average tumor volume for the Capomulin regimen\n",
    "#tumor_status4.head()\n",
    "#Capomulin_scat = tumor_status4.loc[tumor_status4[\"Drug Regimen\"] == \"Capomulin\"]\n",
    "#Capomulin_scat = tumor_status4.get_group(\"Capomulin\")\n",
    "#Capomulin_scat\n",
    "#results_Capomulin[\"Tumor Volume Avg\"] = results_Capomulin['Tumor Volume (mm3)'].mean()\n",
    "#results_Capomulin.head()\n",
    "\n",
    "results_Capomulin_weight= results_Capomulin.groupby(results_Capomulin[\"Weight (g)\"])[\"Tumor Volume (mm3)\"].mean()\n",
    "\n",
    "results_Capomulin_weight.head()\n",
    "#plt.scatter(who_data.iloc[:,5],who_data.iloc[:,9])\n",
    "#plt.xlabel('Weight')\n",
    "#plt.ylabel('Average Tumor Volume by Weight')\n",
    "#plt.show()\n",
    "\n",
    "\n",
    "#   results_Capomulin_scat.head()\n",
    "#Capomulin_weight = results_Capomulin[['Weight (g)','Tumor Volume (mm3)']].mean()\n",
    "\n",
    "# Calculate mean of Tumor Volume per drug\n",
    "#Capomulin_weight = pd.DataFrame(results_Capomulin.groupby(['Drug', 'Weight (g)'])['Tumor Volume (mm3)'].mean())\n",
    "\n",
    "#Capomulin_weight.reset_index()\n",
    "# Calculate mean of Tumor Volume per drug\n",
    "#tumor_response_df = pd.DataFrame(tumor_response_df.groupby(['Drug', 'Timepoint'])['Tumor Volume (mm3)'].mean())\n",
    "\n",
    "#Capomulin_weight.head()\n",
    "\n",
    "#Capomulin_weight1 = Capomulin_weight.groupby(['Weight (g)','Tumor Volume (mm3)'])\n",
    "#Capomulin_weight1.head()\n",
    "\n",
    "#results_Capomulin.plot(kind=\"scatter\", x=\"horsepower\", y=\"mpg\", grid=True, figsize=(8,8),\n",
    "#              title=\"MPG Vs. Horsepower\")\n",
    "#plt.show()\n",
    "\n"
   ]
  },
  {
   "cell_type": "code",
   "execution_count": 149,
   "metadata": {},
   "outputs": [
    {
     "ename": "NameError",
     "evalue": "name 'Capomulin_weight1' is not defined",
     "output_type": "error",
     "traceback": [
      "\u001b[1;31m---------------------------------------------------------------------------\u001b[0m",
      "\u001b[1;31mNameError\u001b[0m                                 Traceback (most recent call last)",
      "\u001b[1;32m<ipython-input-149-cb31944b078a>\u001b[0m in \u001b[0;36m<module>\u001b[1;34m\u001b[0m\n\u001b[1;32m----> 1\u001b[1;33m Capomulin_weight1.plot(kind=\"scatter\", x=\"Weight (g)\", y=\"Tumor Volume (mm3)\", grid=True, figsize=(8,8),\n\u001b[0m\u001b[0;32m      2\u001b[0m               title=\"Timepoint vs Tumor Volume\")\n\u001b[0;32m      3\u001b[0m \u001b[0mplt\u001b[0m\u001b[1;33m.\u001b[0m\u001b[0mshow\u001b[0m\u001b[1;33m(\u001b[0m\u001b[1;33m)\u001b[0m\u001b[1;33m\u001b[0m\u001b[1;33m\u001b[0m\u001b[0m\n\u001b[0;32m      4\u001b[0m \u001b[1;31m#Capomulin_weight = results_Capomulin.groupby(['Weight (g)','Tumor Volume (mm3)'])\u001b[0m\u001b[1;33m\u001b[0m\u001b[1;33m\u001b[0m\u001b[1;33m\u001b[0m\u001b[0m\n",
      "\u001b[1;31mNameError\u001b[0m: name 'Capomulin_weight1' is not defined"
     ]
    }
   ],
   "source": [
    "Capomulin_weight1.plot(kind=\"scatter\", x=\"Weight (g)\", y=\"Tumor Volume (mm3)\", grid=True, figsize=(8,8),\n",
    "              title=\"Timepoint vs Tumor Volume\")\n",
    "plt.show()\n",
    "#Capomulin_weight = results_Capomulin.groupby(['Weight (g)','Tumor Volume (mm3)'])"
   ]
  },
  {
   "cell_type": "code",
   "execution_count": 150,
   "metadata": {},
   "outputs": [],
   "source": [
    "# Calculate the correlation coefficient and linear regression model for mouse weight and average tumor volume for the Capomulin regimen"
   ]
  },
  {
   "cell_type": "code",
   "execution_count": null,
   "metadata": {},
   "outputs": [],
   "source": []
  }
 ],
 "metadata": {
  "anaconda-cloud": {},
  "kernelspec": {
   "display_name": "Python 3",
   "language": "python",
   "name": "python3"
  },
  "language_info": {
   "codemirror_mode": {
    "name": "ipython",
    "version": 3
   },
   "file_extension": ".py",
   "mimetype": "text/x-python",
   "name": "python",
   "nbconvert_exporter": "python",
   "pygments_lexer": "ipython3",
   "version": "3.7.7"
  }
 },
 "nbformat": 4,
 "nbformat_minor": 2
}
